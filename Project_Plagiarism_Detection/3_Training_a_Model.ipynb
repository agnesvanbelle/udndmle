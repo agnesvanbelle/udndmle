{
 "cells": [
  {
   "cell_type": "markdown",
   "metadata": {},
   "source": [
    "# Plagiarism Detection Model\n",
    "\n",
    "Now that you've created training and test data, you are ready to define and train a model. Your goal in this notebook, will be to train a binary classification model that learns to label an answer file as either plagiarized or not, based on the features you provide the model.\n",
    "\n",
    "This task will be broken down into a few discrete steps:\n",
    "\n",
    "* Upload your data to S3.\n",
    "* Define a binary classification model and a training script.\n",
    "* Train your model and deploy it.\n",
    "* Evaluate your deployed classifier and answer some questions about your approach.\n",
    "\n",
    "To complete this notebook, you'll have to complete all given exercises and answer all the questions in this notebook.\n",
    "> All your tasks will be clearly labeled **EXERCISE** and questions as **QUESTION**.\n",
    "\n",
    "It will be up to you to explore different classification models and decide on a model that gives you the best performance for this dataset.\n",
    "\n",
    "---"
   ]
  },
  {
   "cell_type": "markdown",
   "metadata": {},
   "source": [
    "## Load Data to S3\n",
    "\n",
    "In the last notebook, you should have created two files: a `training.csv` and `test.csv` file with the features and class labels for the given corpus of plagiarized/non-plagiarized text data. \n",
    "\n",
    ">The below cells load in some AWS SageMaker libraries and creates a default bucket. After creating this bucket, you can upload your locally stored data to S3.\n",
    "\n",
    "Save your train and test `.csv` feature files, locally. To do this you can run the second notebook \"2_Plagiarism_Feature_Engineering\" in SageMaker or you can manually upload your files to this notebook using the upload icon in Jupyter Lab. Then you can upload local files to S3 by using `sagemaker_session.upload_data` and pointing directly to where the training data is saved."
   ]
  },
  {
   "cell_type": "code",
   "execution_count": 1,
   "metadata": {},
   "outputs": [],
   "source": [
    "import pandas as pd\n",
    "import boto3\n",
    "import sagemaker"
   ]
  },
  {
   "cell_type": "code",
   "execution_count": 2,
   "metadata": {},
   "outputs": [],
   "source": [
    "\"\"\"\n",
    "DON'T MODIFY ANYTHING IN THIS CELL THAT IS BELOW THIS LINE\n",
    "\"\"\"\n",
    "# session and role\n",
    "sagemaker_session = sagemaker.Session()\n",
    "role = sagemaker.get_execution_role()\n",
    "\n",
    "# create an S3 bucket\n",
    "bucket = sagemaker_session.default_bucket()"
   ]
  },
  {
   "cell_type": "markdown",
   "metadata": {},
   "source": [
    "## EXERCISE: Upload your training data to S3\n",
    "\n",
    "Specify the `data_dir` where you've saved your `train.csv` file. Decide on a descriptive `prefix` that defines where your data will be uploaded in the default S3 bucket. Finally, create a pointer to your training data by calling `sagemaker_session.upload_data` and passing in the required parameters. It may help to look at the [Session documentation](https://sagemaker.readthedocs.io/en/stable/session.html#sagemaker.session.Session.upload_data) or previous SageMaker code examples.\n",
    "\n",
    "You are expected to upload your entire directory. Later, the training script will only access the `train.csv` file."
   ]
  },
  {
   "cell_type": "code",
   "execution_count": 4,
   "metadata": {},
   "outputs": [
    {
     "data": {
      "text/plain": [
       "'s3://sagemaker-eu-west-1-282784146513/plagiarism_data_n3/train.csv'"
      ]
     },
     "execution_count": 4,
     "metadata": {},
     "output_type": "execute_result"
    }
   ],
   "source": [
    "import os\n",
    "\n",
    "# should be the name of directory you created to save your features data\n",
    "data_dir = 'plagiarism_data'\n",
    "\n",
    "# set prefix, a descriptive name for a directory  \n",
    "prefix = 'plagiarism_data_n3'\n",
    "\n",
    "# upload all data to S3\n",
    "sagemaker_session.upload_data(os.path.join(data_dir, 'train.csv'), bucket=bucket, key_prefix=prefix, extra_args=None)"
   ]
  },
  {
   "cell_type": "markdown",
   "metadata": {},
   "source": [
    "### Test cell\n",
    "\n",
    "Test that your data has been successfully uploaded. The below cell prints out the items in your S3 bucket and will throw an error if it is empty. You should see the contents of your `data_dir` and perhaps some checkpoints. If you see any other files listed, then you may have some old model files that you can delete via the S3 console (though, additional files shouldn't affect the performance of model developed in this notebook)."
   ]
  },
  {
   "cell_type": "code",
   "execution_count": 5,
   "metadata": {
    "scrolled": true
   },
   "outputs": [
    {
     "name": "stdout",
     "output_type": "stream",
     "text": [
      "AvitoNetV1/sourcedir.tar.gz\n",
      "AvitoNetV2/sourcedir.tar.gz\n",
      "CarPartsClassifier47V1/sourcedir.tar.gz\n",
      "CarPartsClassifier49V1/sourcedir.tar.gz\n",
      "CarPartsClassifierV2/\n",
      "CarPartsClassifierV2/sourcedir.tar.gz\n",
      "Carparts_v2/sourcedir.tar.gz\n",
      "FaceClassifierV1/sourcedir.tar.gz\n",
      "FingerprintAvitoNet/sourcedir.tar.gz\n",
      "NIMA-2019-01-17-09-48-32-925/source/sourcedir.tar.gz\n",
      "NIMA-2019-01-17-09-56-14-610/source/sourcedir.tar.gz\n",
      "NIMA-training/source/sourcedir.tar.gz\n",
      "RankNet/sourcedir.tar.gz\n",
      "VectorExtractorV1/sourcedir.tar.gz\n",
      "VectorExtraxtorV1/sourcedir.tar.gz\n",
      "VectorFExtractorV1/sourcedir.tar.gz\n",
      "data/DEMO-sentiment/test\n",
      "data/DEMO-sentiment/train\n",
      "fraud_detection/linear-learner-2020-02-15-22-44-49-824/output/model.tar.gz\n",
      "fraud_detection/linear-learner-2020-02-15-23-11-07-829/output/model.tar.gz\n",
      "fraud_detection/linear-learner-2020-02-15-23-11-59-963/output/model.tar.gz\n",
      "ic-fulltraining/output/image-classification-2019-03-04-11-06-04-955/output/model.tar.gz\n",
      "ic-fulltraining/output/image-classification-2019-03-04-13-43-52-871/output/model.tar.gz\n",
      "ic-fulltraining/train/caltech-256-60-train.rec\n",
      "ic-fulltraining/validation/caltech-256-60-val.rec\n",
      "nima-iqolxza1-regres-190121-1611-001-a71f4c5b/output/model.tar.gz\n",
      "nima-iqolxza1-regres-190121-1611-002-00606935/output/model.tar.gz\n",
      "nima-iqolxza1-regres-190121-1611-003-e25b7434/output/model.tar.gz\n",
      "nima-iqolxza1-regres-190121-1611-004-c9ed201b/output/model.tar.gz\n",
      "nima-iqolxza1-regres-190121-1747-001-d0e36e49/output/model.tar.gz\n",
      "nima-iqolxza1-regres-190121-1747-002-322a2ea7/output/model.tar.gz\n",
      "nima-iqolxza1-regres-190121-1747-002-c5a7a76e/output/model.tar.gz\n",
      "nima-iqolxza1-regres-190121-1747-003-72556fd8/output/model.tar.gz\n",
      "nima-iqolxza1-regres-190121-1747-003-cb99a2f7/output/model.tar.gz\n",
      "nima-iqolxza1-regres-190121-1747-004-6ba86096/output/model.tar.gz\n",
      "nima-iqolxza1-regres-190121-1747-004-880078a0/output/model.tar.gz\n",
      "nima-iqolxza1-regres-190121-1747-004-f7914473/output/model.tar.gz\n",
      "nima-iqolxza1-regres-190121-1747-005-e370e2f1/output/model.tar.gz\n",
      "nima-iqolxza1-regres-190121-1747-006-5e1f5827/output/model.tar.gz\n",
      "nima-iqolxza1-regres-190121-1747-007-3ce2fc53/output/model.tar.gz\n",
      "nima-iqolxza1-regres-190121-1747-007-e6de3629/output/model.tar.gz\n",
      "nima-iqolxza1-regres-190121-1747-008-1d57911a/output/model.tar.gz\n",
      "nima-iqolxza1-regres-190121-1747-008-6b33f42c/output/model.tar.gz\n",
      "nima-iqolxza1-regres-190121-1747-009-9dfd1abd/output/model.tar.gz\n",
      "nima-iqolxza1-regres-190121-1747-010-77d829df/output/model.tar.gz\n",
      "nima-iqolxza1-regres-190121-1747-010-9642f613/output/model.tar.gz\n",
      "nima-iqolxza1-regres-190121-1747-011-ff3e8e8c/output/model.tar.gz\n",
      "nima-iqolxza1-regres-190121-1747-012-4c028156/output/model.tar.gz\n",
      "nima-iqolxza1-regres-190121-1747-013-c9ce3b76/output/model.tar.gz\n",
      "nima-iqolxza1-regression-29e5209-2019-01-21-16-47-00-255/source/sourcedir.tar.gz\n",
      "nima-iqolxza1-regression-72edfe0-2019-01-21-15-11-04-740/source/sourcedir.tar.gz\n",
      "nima-lightscore-2019-190521-1342-001-040b4b46/output/model.tar.gz\n",
      "nima-lightscore-2019-190521-1342-002-6da742d8/output/model.tar.gz\n",
      "nima-lightscore-2019-190521-1342-003-df6cff43/output/model.tar.gz\n",
      "nima-lightscore-2019-190521-1342-004-1bf2cf07/output/model.tar.gz\n",
      "nima-lightscore-2019-190521-1342-005-4af79809/output/model.tar.gz\n",
      "nima-lightscore-2019-190521-1342-006-fe7d46d0/output/model.tar.gz\n",
      "nima-lightscore-2019-190521-1342-007-f2b18004/output/model.tar.gz\n",
      "nima-lightscore-2019-190521-1342-008-b76f792b/output/model.tar.gz\n",
      "nima-lightscore-2019-190521-1342-009-cd3c567c/output/model.tar.gz\n",
      "nima-lightscore-2019-190521-1342-010-dc6ad1c7/output/model.tar.gz\n",
      "nima-lightscore-2019-190521-1342-012-0ef935be/output/model.tar.gz\n",
      "nima-lightscore-2019-190521-1342-013-8f116117/output/model.tar.gz\n",
      "nima-lightscore-2019-190521-1342-014-e03698be/output/model.tar.gz\n",
      "nima-lightscore-2019-190521-1342-015-8e8ff25f/output/model.tar.gz\n",
      "nima-lightscore-2019-190521-1342-016-85190237/output/model.tar.gz\n",
      "nima-lightscore-2019-190521-1342-017-6755cf95/output/model.tar.gz\n",
      "nima-lightscore-2019-190521-1342-018-7e47c01b/output/model.tar.gz\n",
      "nima-lightscore-2019-190521-1342-019-753ccf4c/output/model.tar.gz\n",
      "nima-lightscore-2019-190521-1342-020-6d3b6a60/output/model.tar.gz\n",
      "nima-lightscore-2019-190522-1722-001-e52706fd/output/model.tar.gz\n",
      "nima-lightscore-2019-190522-1722-002-b1155247/output/model.tar.gz\n",
      "nima-lightscore-2019-190522-1722-004-2388a102/output/model.tar.gz\n",
      "nima-lightscore-2019-190522-1722-005-f506c057/output/model.tar.gz\n",
      "nima-lightscore-2019-190522-1722-006-f420fbe7/output/model.tar.gz\n",
      "nima-lightscore-2019-190522-1722-007-cf33f3f0/output/model.tar.gz\n",
      "nima-lightscore-2019-190522-1722-008-9407a18a/output/model.tar.gz\n",
      "nima-lightscore-2019-190522-1722-009-eb77e008/output/model.tar.gz\n",
      "nima-lightscore-2019-190522-1722-010-62269d35/output/model.tar.gz\n",
      "nima-lightscore-2019-190522-1722-011-ed834da1/output/model.tar.gz\n",
      "nima-lightscore-2019-190522-1722-012-f76c5aa1/output/model.tar.gz\n",
      "nima-lightscore-2019-190522-1722-013-776489a3/output/model.tar.gz\n",
      "nima-lightscore-2019-190522-1722-014-a79e6028/output/model.tar.gz\n",
      "nima-lightscore-2019-190522-1722-015-b1f11c80/output/model.tar.gz\n",
      "nima-lightscore-2019-190522-1722-016-c4e26b1a/output/model.tar.gz\n",
      "nima-lightscore-2019-190522-1722-017-8dfc3143/output/model.tar.gz\n",
      "nima-lightscore-2019-190522-1722-018-f545b4f7/output/model.tar.gz\n",
      "nima-lightscore-2019-190522-1722-019-0b383f09/output/model.tar.gz\n",
      "nima-lightscore-2019-190522-1722-020-9cd492e6/output/model.tar.gz\n",
      "nima-lightscore-20190507-regression-301-2019-05-22-15-22-23-760/source/sourcedir.tar.gz\n",
      "nima-lightscore-20190507-regression-346-2019-05-21-11-42-58-244/source/sourcedir.tar.gz\n",
      "nima-tid2013-regress-190118-1633-001-262f46f3/output/model.tar.gz\n",
      "nima-tid2013-regress-190118-1633-002-0cebf334/output/model.tar.gz\n",
      "nima-tid2013-regress-190118-1633-003-14e9d613/output/model.tar.gz\n",
      "nima-tid2013-regress-190118-1633-004-be2485a2/output/model.tar.gz\n",
      "nima-tid2013-regress-190118-1633-005-736f5119/output/model.tar.gz\n",
      "nima-tid2013-regress-190118-1633-006-d187b79e/output/model.tar.gz\n",
      "nima-tid2013-regress-190118-1633-007-fb179ab9/output/model.tar.gz\n",
      "nima-tid2013-regress-190118-1633-008-e86ac626/output/model.tar.gz\n",
      "nima-tid2013-regress-190118-1633-009-53db5aef/output/model.tar.gz\n",
      "nima-tid2013-regress-190118-1633-010-1584755a/output/model.tar.gz\n",
      "nima-tid2013-regress-190118-1633-011-32d61b90/output/model.tar.gz\n",
      "nima-tid2013-regress-190118-1633-012-acf04322/output/model.tar.gz\n",
      "nima-tid2013-regress-190118-1633-013-dfa77540/output/model.tar.gz\n",
      "nima-tid2013-regress-190118-1633-014-bfcfdda9/output/model.tar.gz\n",
      "nima-tid2013-regress-190118-1633-015-89b6ca89/output/model.tar.gz\n",
      "nima-tid2013-regress-190118-1633-016-ce3263a7/output/model.tar.gz\n",
      "nima-tid2013-regress-190118-1633-017-db52517d/output/model.tar.gz\n",
      "nima-tid2013-regress-190118-1633-018-2ecd226b/output/model.tar.gz\n",
      "nima-tid2013-regress-190118-1633-019-849ca7dc/output/model.tar.gz\n",
      "nima-tid2013-regress-190118-1633-020-ced826cf/output/model.tar.gz\n",
      "nima-tid2013-regress-190121-1747-001-0b55b42c/output/model.tar.gz\n",
      "nima-tid2013-regress-190121-1747-002-4b6f5364/output/model.tar.gz\n",
      "nima-tid2013-regress-190121-1747-003-465bd859/output/model.tar.gz\n",
      "nima-tid2013-regress-190121-1747-004-6acab9c5/output/model.tar.gz\n",
      "nima-tid2013-regress-190121-1747-005-fcb7a445/output/model.tar.gz\n",
      "nima-tid2013-regress-190121-1747-006-90f9d088/output/model.tar.gz\n",
      "nima-tid2013-regress-190121-1747-006-97a1493a/output/model.tar.gz\n",
      "nima-tid2013-regress-190121-1747-007-25d95af1/output/model.tar.gz\n",
      "nima-tid2013-regress-190121-1747-008-221964ad/output/model.tar.gz\n",
      "nima-tid2013-regress-190121-1747-009-9129b4ad/output/model.tar.gz\n",
      "nima-tid2013-regress-190121-1747-010-83a1e8e5/output/model.tar.gz\n",
      "nima-tid2013-regress-190121-1747-011-3ff79298/output/model.tar.gz\n",
      "nima-tid2013-regress-190121-1747-012-367fdf7d/output/model.tar.gz\n",
      "nima-tid2013-regress-190121-1747-012-c01d1da0/output/model.tar.gz\n",
      "nima-tid2013-regress-190121-1747-013-69ffd6ad/output/model.tar.gz\n",
      "nima-tid2013-regress-190121-1747-014-57edbb11/output/model.tar.gz\n",
      "nima-tid2013-regress-190121-1747-015-64bc37f7/output/model.tar.gz\n",
      "nima-tid2013-regress-190121-1747-016-0d9a4bc2/output/model.tar.gz\n",
      "nima-tid2013-regress-190121-1747-017-b9366541/output/model.tar.gz\n",
      "nima-tid2013-regression-0cb2f1d-2019-01-17-11-24-18/source/sourcedir.tar.gz\n",
      "nima-tid2013-regression-0cb2f1d-2019-01-17_11:22:45.066560/source/sourcedir.tar.gz\n",
      "nima-tid2013-regression-2485941-2019-01-17-14-11-13-460/output/model.tar.gz\n",
      "nima-tid2013-regression-2485941-2019-01-17-14-11-13-460/source/sourcedir.tar.gz\n",
      "nima-tid2013-regression-2485941-2019-01-17-14-13-13-451/output/model.tar.gz\n",
      "nima-tid2013-regression-2485941-2019-01-17-14-13-13-451/source/sourcedir.tar.gz\n",
      "nima-tid2013-regression-2485941-2019-01-17-14-30-27-429/output/model.tar.gz\n",
      "nima-tid2013-regression-2485941-2019-01-17-14-30-27-429/source/sourcedir.tar.gz\n",
      "nima-tid2013-regression-2485941-2019-01-17-15-25-07-340/source/sourcedir.tar.gz\n",
      "nima-tid2013-regression-2485941-2019-01-18-09-32-15-480/source/sourcedir.tar.gz\n",
      "nima-tid2013-regression-2485941-2019-01-18-09-32-27-018/source/sourcedir.tar.gz\n",
      "nima-tid2013-regression-2485941-2019-01-18-09-32-45-835/source/sourcedir.tar.gz\n",
      "nima-tid2013-regression-2485941-2019-01-18-09-45-17-907/source/sourcedir.tar.gz\n",
      "nima-tid2013-regression-2485941-2019-01-18-09-46-57-266/source/sourcedir.tar.gz\n",
      "nima-tid2013-regression-29e5209-2019-01-21-16-47-14-147/source/sourcedir.tar.gz\n",
      "nima-tid2013-regression-29e5209-2019-01-21-16-47-26-451/source/sourcedir.tar.gz\n",
      "nima-tid2013-regression-49d84e4-2019-01-17-12-54-54-106/output/model.tar.gz\n",
      "nima-tid2013-regression-49d84e4-2019-01-17-12-54-54-106/source/sourcedir.tar.gz\n",
      "nima-tid2013-regression-49d84e4-2019-01-17-13-01-42-578/source/sourcedir.tar.gz\n",
      "nima-tid2013-regression-524d08c-2019-01-17-13-06-15-318/source/sourcedir.tar.gz\n",
      "nima-tid2013-regression-63d9a43-2019-01-17-11-29-37/source/sourcedir.tar.gz\n",
      "nima-tid2013-regression-63d9a43-2019-01-17-11-38-41/source/sourcedir.tar.gz\n",
      "nima-tid2013-regression-63d9a43-2019-01-17-11-42-37/source/sourcedir.tar.gz\n",
      "nima-tid2013-regression-63d9a43-2019-01-17-11-47-56/source/sourcedir.tar.gz\n",
      "nima-tid2013-regression-688d7b8-2019-01-17-13-11-42/source/sourcedir.tar.gz\n",
      "nima-tid2013-regression-688d7b8-2019-01-17-13-12-05/source/sourcedir.tar.gz\n",
      "nima-tid2013-regression-688d7b8-2019-01-17-13-12-14/source/sourcedir.tar.gz\n",
      "nima-tid2013-regression-688d7b8-2019-01-17-13-12-20/source/sourcedir.tar.gz\n",
      "nima-tid2013-regression-688d7b8-2019-01-17-13-12-51/source/sourcedir.tar.gz\n",
      "nima-tid2013-regression-688d7b8-2019-01-17-13-12-55/source/sourcedir.tar.gz\n",
      "nima-tid2013-regression-688d7b8-2019-01-17-13-13-04/source/sourcedir.tar.gz\n",
      "nima-tid2013-regression-6fe233e-2019-01-17-13-22-38/source/sourcedir.tar.gz\n",
      "nima-tid2013-regression-9b3f208-2019-01-17-13-04-15/source/sourcedir.tar.gz\n",
      "nima-tid2013-regression-a3e8a9a-2019-01-17-12-36-40-184/source/sourcedir.tar.gz\n",
      "nima-tid2013-regression-a8ca361-2019-01-18-15-32-49-236/source/sourcedir.tar.gz\n",
      "nima-tid2013-regression-a8ca361-2019-01-18-15-33-35-220/source/sourcedir.tar.gz\n",
      "nima-tid2013-regression-b9576b3-2019-01-18-15-20-24-271/source/sourcedir.tar.gz\n",
      "nima-tid2013-regression-b9576b3-2019-01-18-15-21-56-126/source/sourcedir.tar.gz\n",
      "nima-tid2013-regression-cada3f3-2019-02-12-13-16-18-668/source/sourcedir.tar.gz\n",
      "nima-tid2013-regression-d16b368-2019-01-17-13-29-17/source/sourcedir.tar.gz\n",
      "nima-tid2013-regression-dbbd63f-2019-01-17-13-21-12-789/output/model.tar.gz\n",
      "nima-tid2013-regression-dbbd63f-2019-01-17-13-21-12-789/source/sourcedir.tar.gz\n",
      "nima-tid2013-regression-dbbd63f-2019-01-17-13-28-20-232/output/model.tar.gz\n",
      "nima-tid2013-regression-dbbd63f-2019-01-17-13-28-20-232/source/sourcedir.tar.gz\n",
      "nima-tid2013-regression-dbbd63f-2019-01-17-14-08-37-531/source/sourcedir.tar.gz\n",
      "nima-tid2013-regression-f35c352-2019-01-17-13-12-54-388/source/sourcedir.tar.gz\n",
      "nima-tid2013-regression-ff3da32-2019-01-17-13-10-50/source/sourcedir.tar.gz\n",
      "notebook/chainer_sentiment/test/test.npz\n",
      "notebook/chainer_sentiment/train/train.npz\n",
      "notebook/chainer_sentiment/vocab/vocab.npy\n",
      "plagiarism_data_n3/train.csv\n",
      "pytorch-inference-2020-02-23-19-28-46-403/model.tar.gz\n",
      "pytorch-training-2020-02-23-15-38-45-855/debug-output/training_job_end.ts\n",
      "pytorch-training-2020-02-23-15-38-45-855/source/sourcedir.tar.gz\n",
      "pytorch-training-2020-02-23-15-47-48-281/debug-output/training_job_end.ts\n",
      "pytorch-training-2020-02-23-15-47-48-281/source/sourcedir.tar.gz\n",
      "pytorch-training-2020-02-23-17-13-55-813/debug-output/training_job_end.ts\n",
      "pytorch-training-2020-02-23-17-13-55-813/source/sourcedir.tar.gz\n",
      "pytorch-training-2020-02-23-17-21-36-331/debug-output/training_job_end.ts\n",
      "pytorch-training-2020-02-23-17-21-36-331/source/sourcedir.tar.gz\n",
      "pytorch-training-2020-02-23-17-22-25-228/debug-output/training_job_end.ts\n",
      "pytorch-training-2020-02-23-17-22-25-228/source/sourcedir.tar.gz\n",
      "pytorch-training-2020-02-23-19-00-33-271/debug-output/training_job_end.ts\n",
      "pytorch-training-2020-02-23-19-00-33-271/source/sourcedir.tar.gz\n",
      "pytorch-training-2020-02-23-19-05-19-673/debug-output/training_job_end.ts\n",
      "pytorch-training-2020-02-23-19-05-19-673/output/model.tar.gz\n",
      "pytorch-training-2020-02-23-19-05-19-673/source/sourcedir.tar.gz\n",
      "pytorch-training-2020-02-23-19-12-51-376/debug-output/training_job_end.ts\n",
      "pytorch-training-2020-02-23-19-12-51-376/output/model.tar.gz\n",
      "pytorch-training-2020-02-23-19-12-51-376/source/sourcedir.tar.gz\n",
      "pytorch-training-2020-02-23-19-18-23-181/debug-output/collections/000000000/worker_0_collections.json\n",
      "pytorch-training-2020-02-23-19-18-23-181/debug-output/events/000000000000/000000000000_worker_0.tfevents\n",
      "pytorch-training-2020-02-23-19-18-23-181/debug-output/index/000000000/000000000000_worker_0.json\n",
      "pytorch-training-2020-02-23-19-18-23-181/debug-output/training_job_end.ts\n",
      "pytorch-training-2020-02-23-19-18-23-181/output/model.tar.gz\n",
      "pytorch-training-2020-02-23-19-18-23-181/source/sourcedir.tar.gz\n",
      "pytorch-training-2020-02-23-19-22-05-330/debug-output/collections/000000000/worker_0_collections.json\n",
      "pytorch-training-2020-02-23-19-22-05-330/debug-output/events/000000000000/000000000000_worker_0.tfevents\n",
      "pytorch-training-2020-02-23-19-22-05-330/debug-output/index/000000000/000000000000_worker_0.json\n",
      "pytorch-training-2020-02-23-19-22-05-330/debug-output/training_job_end.ts\n",
      "pytorch-training-2020-02-23-19-22-05-330/output/model.tar.gz\n",
      "pytorch-training-2020-02-23-19-22-05-330/source/sourcedir.tar.gz\n",
      "pytorch-training-2020-02-23-19-23-42-224/source/sourcedir.tar.gz\n",
      "sagemaker-chainer-2018-07-20-07-30-23-556/output/model.tar.gz\n",
      "sagemaker-chainer-2018-07-20-07-30-23-556/output/output.tar.gz\n",
      "sagemaker-chainer-2018-07-20-07-30-23-556/source/sourcedir.tar.gz\n",
      "sagemaker-chainer-2018-07-23-07-05-11-621/output/model.tar.gz\n",
      "sagemaker-chainer-2018-07-23-07-05-11-621/output/output.tar.gz\n",
      "sagemaker-chainer-2018-07-23-07-05-11-621/source/sourcedir.tar.gz\n",
      "sagemaker-mxnet-190118-1046-001-42372818/output/model.tar.gz\n",
      "sagemaker-mxnet-190118-1046-002-dfd5ca39/output/model.tar.gz\n",
      "sagemaker-mxnet-190118-1046-003-b53caf18/output/model.tar.gz\n",
      "sagemaker-mxnet-190118-1046-004-2347e937/output/model.tar.gz\n",
      "sagemaker-mxnet-190118-1046-005-09e3572d/output/model.tar.gz\n",
      "sagemaker-mxnet-190118-1046-006-cbc4a087/output/model.tar.gz\n",
      "sagemaker-mxnet-190118-1046-007-d35e5c2e/output/model.tar.gz\n",
      "sagemaker-mxnet-190118-1046-008-a26590aa/output/model.tar.gz\n",
      "sagemaker-mxnet-190118-1046-009-5878ccbd/output/model.tar.gz\n",
      "sagemaker-mxnet-2019-01-17-10-02-09-876/source/sourcedir.tar.gz\n",
      "sagemaker-mxnet-2019-02-12-13-03-26-229/output/model.tar.gz\n",
      "sagemaker-mxnet-2019-02-12-13-03-26-229/source/sourcedir.tar.gz\n",
      "sagemaker-mxnet-2019-02-12-13-06-19-123/source/sourcedir.tar.gz\n",
      "sagemaker-mxnet-2019-02-12-13-07-14-888/source/sourcedir.tar.gz\n",
      "sagemaker-mxnet-2019-02-12-13-07-21-983/source/sourcedir.tar.gz\n",
      "sagemaker-mxnet-2019-02-12-13-11-02-678/source/sourcedir.tar.gz\n",
      "sagemaker-mxnet-2019-02-12-13-12-12-327/source/sourcedir.tar.gz\n",
      "sagemaker-mxnet-2019-02-12-13-12-42-167/source/sourcedir.tar.gz\n",
      "sagemaker-mxnet-2019-02-12-13-13-21-719/source/sourcedir.tar.gz\n",
      "sagemaker-mxnet-2019-03-17-19-46-55-507/output/model.tar.gz\n",
      "sagemaker-mxnet-2019-03-17-19-46-55-507/source/sourcedir.tar.gz\n",
      "sagemaker-pytorch-2020-02-04-10-58-03-469/debug-output/training_job_end.ts\n",
      "sagemaker-pytorch-2020-02-04-10-58-03-469/output/model.tar.gz\n",
      "sagemaker-pytorch-2020-02-04-10-58-03-469/source/sourcedir.tar.gz\n",
      "sagemaker-pytorch-2020-02-04-13-19-44-169/sourcedir.tar.gz\n",
      "sagemaker-pytorch-2020-02-04-14-11-58-989/debug-output/training_job_end.ts\n",
      "sagemaker-pytorch-2020-02-04-14-11-58-989/output/model.tar.gz\n",
      "sagemaker-pytorch-2020-02-04-14-11-58-989/source/sourcedir.tar.gz\n",
      "sagemaker-pytorch-2020-02-04-14-38-59-420/sourcedir.tar.gz\n",
      "sagemaker-pytorch-2020-02-04-15-00-03-801/sourcedir.tar.gz\n",
      "sagemaker-pytorch-2020-02-04-15-14-37-848/sourcedir.tar.gz\n",
      "sagemaker-record-sets/KMeans-2020-02-15-20-24-30-871/.amazon.manifest\n",
      "sagemaker-record-sets/KMeans-2020-02-15-20-24-30-871/matrix_0.pbr\n",
      "sagemaker-record-sets/LinearLearner-2020-02-15-22-39-43-909/.amazon.manifest\n",
      "sagemaker-record-sets/LinearLearner-2020-02-15-22-39-43-909/matrix_0.pbr\n",
      "sagemaker-record-sets/LinearLearner-2020-02-15-22-44-41-348/.amazon.manifest\n",
      "sagemaker-record-sets/LinearLearner-2020-02-15-22-44-41-348/matrix_0.pbr\n",
      "sagemaker-record-sets/PCA-2020-02-15-20-08-03-164/.amazon.manifest\n",
      "sagemaker-record-sets/PCA-2020-02-15-20-08-03-164/matrix_0.pbr\n",
      "sagemaker/moon-data/.ipynb_checkpoints/train-checkpoint.csv\n",
      "sagemaker/moon-data/model/pytorch-training-2020-02-23-19-23-42-224/debug-output/collections/000000000/worker_0_collections.json\n",
      "sagemaker/moon-data/model/pytorch-training-2020-02-23-19-23-42-224/debug-output/events/000000000000/000000000000_worker_0.tfevents\n",
      "sagemaker/moon-data/model/pytorch-training-2020-02-23-19-23-42-224/debug-output/index/000000000/000000000000_worker_0.json\n",
      "sagemaker/moon-data/model/pytorch-training-2020-02-23-19-23-42-224/debug-output/training_job_end.ts\n",
      "sagemaker/moon-data/model/pytorch-training-2020-02-23-19-23-42-224/output/model.tar.gz\n",
      "sagemaker/moon-data/train.csv\n",
      "sagemaker/sentiment_rnn/test.csv\n",
      "sagemaker/sentiment_rnn/train.csv\n",
      "sagemaker/sentiment_rnn/word_dict.pkl\n",
      "Test passed!\n"
     ]
    }
   ],
   "source": [
    "\"\"\"\n",
    "DON'T MODIFY ANYTHING IN THIS CELL THAT IS BELOW THIS LINE\n",
    "\"\"\"\n",
    "# confirm that data is in S3 bucket\n",
    "empty_check = []\n",
    "for obj in boto3.resource('s3').Bucket(bucket).objects.all():\n",
    "    empty_check.append(obj.key)\n",
    "    print(obj.key)\n",
    "\n",
    "assert len(empty_check) !=0, 'S3 bucket is empty.'\n",
    "print('Test passed!')"
   ]
  },
  {
   "cell_type": "markdown",
   "metadata": {},
   "source": [
    "---\n",
    "\n",
    "# Modeling\n",
    "\n",
    "Now that you've uploaded your training data, it's time to define and train a model!\n",
    "\n",
    "The type of model you create is up to you. For a binary classification task, you can choose to go one of three routes:\n",
    "* Use a built-in classification algorithm, like LinearLearner.\n",
    "* Define a custom Scikit-learn classifier, a comparison of models can be found [here](https://scikit-learn.org/stable/auto_examples/classification/plot_classifier_comparison.html).\n",
    "* Define a custom PyTorch neural network classifier. \n",
    "\n",
    "It will be up to you to test out a variety of models and choose the best one. Your project will be graded on the accuracy of your final model. \n",
    " \n",
    "---\n",
    "\n",
    "## EXERCISE: Complete a training script \n",
    "\n",
    "To implement a custom classifier, you'll need to complete a `train.py` script. You've been given the folders `source_sklearn` and `source_pytorch` which hold starting code for a custom Scikit-learn model and a PyTorch model, respectively. Each directory has a `train.py` training script. To complete this project **you only need to complete one of these scripts**; the script that is responsible for training your final model.\n",
    "\n",
    "A typical training script:\n",
    "* Loads training data from a specified directory\n",
    "* Parses any training & model hyperparameters (ex. nodes in a neural network, training epochs, etc.)\n",
    "* Instantiates a model of your design, with any specified hyperparams\n",
    "* Trains that model \n",
    "* Finally, saves the model so that it can be hosted/deployed, later\n",
    "\n",
    "### Defining and training a model\n",
    "Much of the training script code is provided for you. Almost all of your work will be done in the `if __name__ == '__main__':` section. To complete a `train.py` file, you will:\n",
    "1. Import any extra libraries you need\n",
    "2. Define any additional model training hyperparameters using `parser.add_argument`\n",
    "2. Define a model in the `if __name__ == '__main__':` section\n",
    "3. Train the model in that same section\n",
    "\n",
    "Below, you can use `!pygmentize` to display an existing `train.py` file. Read through the code; all of your tasks are marked with `TODO` comments. \n",
    "\n",
    "**Note: If you choose to create a custom PyTorch model, you will be responsible for defining the model in the `model.py` file,** and a `predict.py` file is provided. If you choose to use Scikit-learn, you only need a `train.py` file; you may import a classifier from the `sklearn` library."
   ]
  },
  {
   "cell_type": "code",
   "execution_count": 55,
   "metadata": {
    "scrolled": true
   },
   "outputs": [
    {
     "name": "stdout",
     "output_type": "stream",
     "text": [
      "\u001b[34mimport\u001b[39;49;00m \u001b[04m\u001b[36margparse\u001b[39;49;00m\n",
      "\u001b[34mimport\u001b[39;49;00m \u001b[04m\u001b[36mjson\u001b[39;49;00m\n",
      "\u001b[34mimport\u001b[39;49;00m \u001b[04m\u001b[36mos\u001b[39;49;00m\n",
      "\u001b[34mimport\u001b[39;49;00m \u001b[04m\u001b[36mpandas\u001b[39;49;00m \u001b[34mas\u001b[39;49;00m \u001b[04m\u001b[36mpd\u001b[39;49;00m\n",
      "\u001b[34mimport\u001b[39;49;00m \u001b[04m\u001b[36mtorch\u001b[39;49;00m\n",
      "\u001b[34mimport\u001b[39;49;00m \u001b[04m\u001b[36mtorch.optim\u001b[39;49;00m \u001b[34mas\u001b[39;49;00m \u001b[04m\u001b[36moptim\u001b[39;49;00m\n",
      "\u001b[34mimport\u001b[39;49;00m \u001b[04m\u001b[36mtorch.nn\u001b[39;49;00m \u001b[34mas\u001b[39;49;00m \u001b[04m\u001b[36mnn\u001b[39;49;00m\n",
      "\u001b[34mimport\u001b[39;49;00m \u001b[04m\u001b[36mtorch.utils.data\u001b[39;49;00m\n",
      "\n",
      "\u001b[37m# imports the model in model.py by name\u001b[39;49;00m\n",
      "\u001b[34mfrom\u001b[39;49;00m \u001b[04m\u001b[36mmodel\u001b[39;49;00m \u001b[34mimport\u001b[39;49;00m BinaryClassifier\n",
      "\n",
      "\u001b[34mdef\u001b[39;49;00m \u001b[32mmodel_fn\u001b[39;49;00m(model_dir):\n",
      "    \u001b[33m\"\"\"Load the PyTorch model from the `model_dir` directory.\"\"\"\u001b[39;49;00m\n",
      "    \u001b[34mprint\u001b[39;49;00m(\u001b[33m\"\u001b[39;49;00m\u001b[33mLoading model.\u001b[39;49;00m\u001b[33m\"\u001b[39;49;00m)\n",
      "\n",
      "    \u001b[37m# First, load the parameters used to create the model.\u001b[39;49;00m\n",
      "    model_info = {}\n",
      "    model_info_path = os.path.join(model_dir, \u001b[33m'\u001b[39;49;00m\u001b[33mmodel_info.pth\u001b[39;49;00m\u001b[33m'\u001b[39;49;00m)\n",
      "    \u001b[34mwith\u001b[39;49;00m \u001b[36mopen\u001b[39;49;00m(model_info_path, \u001b[33m'\u001b[39;49;00m\u001b[33mrb\u001b[39;49;00m\u001b[33m'\u001b[39;49;00m) \u001b[34mas\u001b[39;49;00m f:\n",
      "        model_info = torch.load(f)\n",
      "\n",
      "    \u001b[34mprint\u001b[39;49;00m(\u001b[33m\"\u001b[39;49;00m\u001b[33mmodel_info: {}\u001b[39;49;00m\u001b[33m\"\u001b[39;49;00m.format(model_info))\n",
      "\n",
      "    \u001b[37m# Determine the device and construct the model.\u001b[39;49;00m\n",
      "    device = torch.device(\u001b[33m\"\u001b[39;49;00m\u001b[33mcuda\u001b[39;49;00m\u001b[33m\"\u001b[39;49;00m \u001b[34mif\u001b[39;49;00m torch.cuda.is_available() \u001b[34melse\u001b[39;49;00m \u001b[33m\"\u001b[39;49;00m\u001b[33mcpu\u001b[39;49;00m\u001b[33m\"\u001b[39;49;00m)\n",
      "    model = BinaryClassifier(model_info[\u001b[33m'\u001b[39;49;00m\u001b[33minput_features\u001b[39;49;00m\u001b[33m'\u001b[39;49;00m], model_info[\u001b[33m'\u001b[39;49;00m\u001b[33mhidden_dim\u001b[39;49;00m\u001b[33m'\u001b[39;49;00m], model_info[\u001b[33m'\u001b[39;49;00m\u001b[33moutput_dim\u001b[39;49;00m\u001b[33m'\u001b[39;49;00m])\n",
      "\n",
      "    \u001b[37m# Load the stored model parameters.\u001b[39;49;00m\n",
      "    model_path = os.path.join(model_dir, \u001b[33m'\u001b[39;49;00m\u001b[33mmodel.pth\u001b[39;49;00m\u001b[33m'\u001b[39;49;00m)\n",
      "    \u001b[34mwith\u001b[39;49;00m \u001b[36mopen\u001b[39;49;00m(model_path, \u001b[33m'\u001b[39;49;00m\u001b[33mrb\u001b[39;49;00m\u001b[33m'\u001b[39;49;00m) \u001b[34mas\u001b[39;49;00m f:\n",
      "        model.load_state_dict(torch.load(f))\n",
      "\n",
      "    \u001b[37m# set to eval mode, could use no_grad\u001b[39;49;00m\n",
      "    model.to(device).eval()\n",
      "\n",
      "    \u001b[34mprint\u001b[39;49;00m(\u001b[33m\"\u001b[39;49;00m\u001b[33mDone loading model.\u001b[39;49;00m\u001b[33m\"\u001b[39;49;00m)\n",
      "    \u001b[34mreturn\u001b[39;49;00m model\n",
      "\n",
      "\u001b[37m# Gets training data in batches from the train.csv file\u001b[39;49;00m\n",
      "\u001b[34mdef\u001b[39;49;00m \u001b[32m_get_train_data_loader\u001b[39;49;00m(batch_size, training_dir):\n",
      "    \u001b[34mprint\u001b[39;49;00m(\u001b[33m\"\u001b[39;49;00m\u001b[33mGet train data loader.\u001b[39;49;00m\u001b[33m\"\u001b[39;49;00m)\n",
      "\n",
      "    train_data = pd.read_csv(os.path.join(training_dir, \u001b[33m\"\u001b[39;49;00m\u001b[33mtrain.csv\u001b[39;49;00m\u001b[33m\"\u001b[39;49;00m), header=\u001b[36mNone\u001b[39;49;00m, names=\u001b[36mNone\u001b[39;49;00m)\n",
      "\n",
      "    train_y = torch.from_numpy(train_data[[\u001b[34m0\u001b[39;49;00m]].values).float().squeeze()\n",
      "    train_x = torch.from_numpy(train_data.drop([\u001b[34m0\u001b[39;49;00m], axis=\u001b[34m1\u001b[39;49;00m).values).float()\n",
      "\n",
      "    train_ds = torch.utils.data.TensorDataset(train_x, train_y)\n",
      "\n",
      "    \u001b[34mreturn\u001b[39;49;00m torch.utils.data.DataLoader(train_ds, batch_size=batch_size)\n",
      "\n",
      "\n",
      "\u001b[37m# Provided training function\u001b[39;49;00m\n",
      "\u001b[34mdef\u001b[39;49;00m \u001b[32mtrain\u001b[39;49;00m(model, train_loader, epochs, criterion, optimizer, device):\n",
      "    \u001b[33m\"\"\"\u001b[39;49;00m\n",
      "\u001b[33m    This is the training method that is called by the PyTorch training script. The parameters\u001b[39;49;00m\n",
      "\u001b[33m    passed are as follows:\u001b[39;49;00m\n",
      "\u001b[33m    model        - The PyTorch model that we wish to train.\u001b[39;49;00m\n",
      "\u001b[33m    train_loader - The PyTorch DataLoader that should be used during training.\u001b[39;49;00m\n",
      "\u001b[33m    epochs       - The total number of epochs to train for.\u001b[39;49;00m\n",
      "\u001b[33m    criterion    - The loss function used for training. \u001b[39;49;00m\n",
      "\u001b[33m    optimizer    - The optimizer to use during training.\u001b[39;49;00m\n",
      "\u001b[33m    device       - Where the model and data should be loaded (gpu or cpu).\u001b[39;49;00m\n",
      "\u001b[33m    \"\"\"\u001b[39;49;00m\n",
      "    \n",
      "    \u001b[37m# training loop is provided\u001b[39;49;00m\n",
      "    \u001b[34mfor\u001b[39;49;00m epoch \u001b[35min\u001b[39;49;00m \u001b[36mrange\u001b[39;49;00m(\u001b[34m1\u001b[39;49;00m, epochs + \u001b[34m1\u001b[39;49;00m):\n",
      "        model.train() \u001b[37m# Make sure that the model is in training mode.\u001b[39;49;00m\n",
      "\n",
      "        total_loss = \u001b[34m0\u001b[39;49;00m\n",
      "\n",
      "        \u001b[34mfor\u001b[39;49;00m batch \u001b[35min\u001b[39;49;00m train_loader:\n",
      "            \u001b[37m# get data\u001b[39;49;00m\n",
      "            batch_x, batch_y = batch\n",
      "\n",
      "            batch_x = batch_x.to(device)\n",
      "            batch_y = batch_y.to(device)\n",
      "\n",
      "            optimizer.zero_grad()\n",
      "\n",
      "            \u001b[37m# get predictions from model\u001b[39;49;00m\n",
      "            y_pred = model(batch_x)\n",
      "            \n",
      "            \u001b[37m# perform backprop\u001b[39;49;00m\n",
      "            loss = criterion(y_pred, batch_y)\n",
      "            loss.backward()\n",
      "            optimizer.step()\n",
      "            \n",
      "            total_loss += loss.data.item()\n",
      "\n",
      "        \u001b[34mprint\u001b[39;49;00m(\u001b[33m\"\u001b[39;49;00m\u001b[33mEpoch: {}, Loss: {}\u001b[39;49;00m\u001b[33m\"\u001b[39;49;00m.format(epoch, total_loss / \u001b[36mlen\u001b[39;49;00m(train_loader)))\n",
      "\n",
      "\n",
      "\u001b[37m## TODO: Complete the main code\u001b[39;49;00m\n",
      "\u001b[34mif\u001b[39;49;00m \u001b[31m__name__\u001b[39;49;00m == \u001b[33m'\u001b[39;49;00m\u001b[33m__main__\u001b[39;49;00m\u001b[33m'\u001b[39;49;00m:\n",
      "    \n",
      "    \u001b[37m# All of the model parameters and training parameters are sent as arguments\u001b[39;49;00m\n",
      "    \u001b[37m# when this script is executed, during a training job\u001b[39;49;00m\n",
      "    \n",
      "    \u001b[37m# Here we set up an argument parser to easily access the parameters\u001b[39;49;00m\n",
      "    parser = argparse.ArgumentParser()\n",
      "\n",
      "    \u001b[37m# SageMaker parameters, like the directories for training data and saving models; set automatically\u001b[39;49;00m\n",
      "    \u001b[37m# Do not need to change\u001b[39;49;00m\n",
      "    parser.add_argument(\u001b[33m'\u001b[39;49;00m\u001b[33m--output-data-dir\u001b[39;49;00m\u001b[33m'\u001b[39;49;00m, \u001b[36mtype\u001b[39;49;00m=\u001b[36mstr\u001b[39;49;00m, default=os.environ[\u001b[33m'\u001b[39;49;00m\u001b[33mSM_OUTPUT_DATA_DIR\u001b[39;49;00m\u001b[33m'\u001b[39;49;00m])\n",
      "    parser.add_argument(\u001b[33m'\u001b[39;49;00m\u001b[33m--model-dir\u001b[39;49;00m\u001b[33m'\u001b[39;49;00m, \u001b[36mtype\u001b[39;49;00m=\u001b[36mstr\u001b[39;49;00m, default=os.environ[\u001b[33m'\u001b[39;49;00m\u001b[33mSM_MODEL_DIR\u001b[39;49;00m\u001b[33m'\u001b[39;49;00m])\n",
      "    parser.add_argument(\u001b[33m'\u001b[39;49;00m\u001b[33m--data-dir\u001b[39;49;00m\u001b[33m'\u001b[39;49;00m, \u001b[36mtype\u001b[39;49;00m=\u001b[36mstr\u001b[39;49;00m, default=os.environ[\u001b[33m'\u001b[39;49;00m\u001b[33mSM_CHANNEL_TRAIN\u001b[39;49;00m\u001b[33m'\u001b[39;49;00m])\n",
      "    \n",
      "    \u001b[37m# Training Parameters, given\u001b[39;49;00m\n",
      "    parser.add_argument(\u001b[33m'\u001b[39;49;00m\u001b[33m--batch-size\u001b[39;49;00m\u001b[33m'\u001b[39;49;00m, \u001b[36mtype\u001b[39;49;00m=\u001b[36mint\u001b[39;49;00m, default=\u001b[34m10\u001b[39;49;00m, metavar=\u001b[33m'\u001b[39;49;00m\u001b[33mN\u001b[39;49;00m\u001b[33m'\u001b[39;49;00m,\n",
      "                        help=\u001b[33m'\u001b[39;49;00m\u001b[33minput batch size for training (default: 10)\u001b[39;49;00m\u001b[33m'\u001b[39;49;00m)\n",
      "    parser.add_argument(\u001b[33m'\u001b[39;49;00m\u001b[33m--epochs\u001b[39;49;00m\u001b[33m'\u001b[39;49;00m, \u001b[36mtype\u001b[39;49;00m=\u001b[36mint\u001b[39;49;00m, default=\u001b[34m10\u001b[39;49;00m, metavar=\u001b[33m'\u001b[39;49;00m\u001b[33mN\u001b[39;49;00m\u001b[33m'\u001b[39;49;00m,\n",
      "                        help=\u001b[33m'\u001b[39;49;00m\u001b[33mnumber of epochs to train (default: 10)\u001b[39;49;00m\u001b[33m'\u001b[39;49;00m)\n",
      "    parser.add_argument(\u001b[33m'\u001b[39;49;00m\u001b[33m--seed\u001b[39;49;00m\u001b[33m'\u001b[39;49;00m, \u001b[36mtype\u001b[39;49;00m=\u001b[36mint\u001b[39;49;00m, default=\u001b[34m1\u001b[39;49;00m, metavar=\u001b[33m'\u001b[39;49;00m\u001b[33mS\u001b[39;49;00m\u001b[33m'\u001b[39;49;00m,\n",
      "                        help=\u001b[33m'\u001b[39;49;00m\u001b[33mrandom seed (default: 1)\u001b[39;49;00m\u001b[33m'\u001b[39;49;00m)\n",
      "    \n",
      "    \u001b[37m## TODO: Add args for the three model parameters: input_features, hidden_dim, output_dim\u001b[39;49;00m\n",
      "    \u001b[37m# Model Parameters\u001b[39;49;00m\n",
      "    parser.add_argument(\u001b[33m'\u001b[39;49;00m\u001b[33m--input_features\u001b[39;49;00m\u001b[33m'\u001b[39;49;00m, \u001b[36mtype\u001b[39;49;00m=\u001b[36mint\u001b[39;49;00m, default=\u001b[34m3\u001b[39;49;00m, metavar=\u001b[33m'\u001b[39;49;00m\u001b[33mIN\u001b[39;49;00m\u001b[33m'\u001b[39;49;00m,\n",
      "                        help=\u001b[33m'\u001b[39;49;00m\u001b[33mnummber of input features (default: 3)\u001b[39;49;00m\u001b[33m'\u001b[39;49;00m)\n",
      "    \n",
      "    parser.add_argument(\u001b[33m'\u001b[39;49;00m\u001b[33m--hidden_dim\u001b[39;49;00m\u001b[33m'\u001b[39;49;00m, \u001b[36mtype\u001b[39;49;00m=\u001b[36mint\u001b[39;49;00m, default=\u001b[34m7\u001b[39;49;00m, metavar=\u001b[33m'\u001b[39;49;00m\u001b[33mH\u001b[39;49;00m\u001b[33m'\u001b[39;49;00m,\n",
      "                        help=\u001b[33m'\u001b[39;49;00m\u001b[33mhiden layers\u001b[39;49;00m\u001b[33m\\'\u001b[39;49;00m\u001b[33m dimensions (default: 7)\u001b[39;49;00m\u001b[33m'\u001b[39;49;00m)\n",
      "    \n",
      "    parser.add_argument(\u001b[33m'\u001b[39;49;00m\u001b[33m--output_dim\u001b[39;49;00m\u001b[33m'\u001b[39;49;00m, \u001b[36mtype\u001b[39;49;00m=\u001b[36mint\u001b[39;49;00m, default=\u001b[34m1\u001b[39;49;00m, metavar=\u001b[33m'\u001b[39;49;00m\u001b[33mOUT\u001b[39;49;00m\u001b[33m'\u001b[39;49;00m,\n",
      "                        help=\u001b[33m'\u001b[39;49;00m\u001b[33moutput dimension (default: 1)\u001b[39;49;00m\u001b[33m'\u001b[39;49;00m)\n",
      "    \n",
      "    \n",
      "    parser.add_argument(\u001b[33m'\u001b[39;49;00m\u001b[33m--lr\u001b[39;49;00m\u001b[33m'\u001b[39;49;00m, \u001b[36mtype\u001b[39;49;00m=\u001b[36mfloat\u001b[39;49;00m, default=\u001b[34m0.001\u001b[39;49;00m, metavar=\u001b[33m'\u001b[39;49;00m\u001b[33mLR\u001b[39;49;00m\u001b[33m'\u001b[39;49;00m,\n",
      "                        help=\u001b[33m'\u001b[39;49;00m\u001b[33mlearning rate (default: 0.001)\u001b[39;49;00m\u001b[33m'\u001b[39;49;00m)\n",
      "    \n",
      "    \u001b[37m# args holds all passed-in arguments\u001b[39;49;00m\n",
      "    args = parser.parse_args()\n",
      "\n",
      "    device = torch.device(\u001b[33m\"\u001b[39;49;00m\u001b[33mcuda\u001b[39;49;00m\u001b[33m\"\u001b[39;49;00m \u001b[34mif\u001b[39;49;00m torch.cuda.is_available() \u001b[34melse\u001b[39;49;00m \u001b[33m\"\u001b[39;49;00m\u001b[33mcpu\u001b[39;49;00m\u001b[33m\"\u001b[39;49;00m)\n",
      "    \u001b[34mprint\u001b[39;49;00m(\u001b[33m\"\u001b[39;49;00m\u001b[33mUsing device {}.\u001b[39;49;00m\u001b[33m\"\u001b[39;49;00m.format(device))\n",
      "\n",
      "    torch.manual_seed(args.seed)\n",
      "\n",
      "    \u001b[37m# Load the training data.\u001b[39;49;00m\n",
      "    train_loader = _get_train_data_loader(args.batch_size, args.data_dir)\n",
      "\n",
      "\n",
      "    \u001b[37m## --- Your code here --- ##\u001b[39;49;00m\n",
      "    \n",
      "    \u001b[37m## TODO:  Build the model by passing in the input params\u001b[39;49;00m\n",
      "    \u001b[37m# To get params from the parser, call args.argument_name, ex. args.epochs or ards.hidden_dim\u001b[39;49;00m\n",
      "    \u001b[37m# Don't forget to move your model .to(device) to move to GPU , if appropriate\u001b[39;49;00m\n",
      "    model = BinaryClassifier(args.input_features, args.hidden_dim, args.output_dim).to(device)\n",
      "    \n",
      "    \u001b[37m## TODO: Define an optimizer and loss function for training\u001b[39;49;00m\n",
      "    model_params = \u001b[36mlist\u001b[39;49;00m(model.parameters())\n",
      "    optimizer = optim.Adam(model_params, lr=args.lr)\n",
      "    criterion = nn.BCELoss()\n",
      "\n",
      "    \u001b[37m# Trains the model (given line of code, which calls the above training function)\u001b[39;49;00m\n",
      "    train(model, train_loader, args.epochs, criterion, optimizer, device)\n",
      "\n",
      "    \u001b[37m## TODO: complete in the model_info by adding three argument names, the first is given\u001b[39;49;00m\n",
      "    \u001b[37m# Keep the keys of this dictionary as they are \u001b[39;49;00m\n",
      "    model_info_path = os.path.join(args.model_dir, \u001b[33m'\u001b[39;49;00m\u001b[33mmodel_info.pth\u001b[39;49;00m\u001b[33m'\u001b[39;49;00m)\n",
      "    \u001b[34mwith\u001b[39;49;00m \u001b[36mopen\u001b[39;49;00m(model_info_path, \u001b[33m'\u001b[39;49;00m\u001b[33mwb\u001b[39;49;00m\u001b[33m'\u001b[39;49;00m) \u001b[34mas\u001b[39;49;00m f:\n",
      "        model_info = {\n",
      "            \u001b[33m'\u001b[39;49;00m\u001b[33minput_features\u001b[39;49;00m\u001b[33m'\u001b[39;49;00m: args.input_features,\n",
      "            \u001b[33m'\u001b[39;49;00m\u001b[33mhidden_dim\u001b[39;49;00m\u001b[33m'\u001b[39;49;00m: args.hidden_dim,\n",
      "            \u001b[33m'\u001b[39;49;00m\u001b[33moutput_dim\u001b[39;49;00m\u001b[33m'\u001b[39;49;00m: args.output_dim,\n",
      "        }\n",
      "        torch.save(model_info, f)\n",
      "        \n",
      "    \u001b[37m## --- End of your code  --- ##\u001b[39;49;00m\n",
      "    \n",
      "\n",
      "    \u001b[37m# Save the model parameters\u001b[39;49;00m\n",
      "    model_path = os.path.join(args.model_dir, \u001b[33m'\u001b[39;49;00m\u001b[33mmodel.pth\u001b[39;49;00m\u001b[33m'\u001b[39;49;00m)\n",
      "    \u001b[34mwith\u001b[39;49;00m \u001b[36mopen\u001b[39;49;00m(model_path, \u001b[33m'\u001b[39;49;00m\u001b[33mwb\u001b[39;49;00m\u001b[33m'\u001b[39;49;00m) \u001b[34mas\u001b[39;49;00m f:\n",
      "        torch.save(model.cpu().state_dict(), f)\n"
     ]
    }
   ],
   "source": [
    "# directory can be changed to: source_sklearn or source_pytorch\n",
    "!pygmentize source_pytorch/train.py"
   ]
  },
  {
   "cell_type": "markdown",
   "metadata": {},
   "source": [
    "### Provided code\n",
    "\n",
    "If you read the code above, you can see that the starter code includes a few things:\n",
    "* Model loading (`model_fn`) and saving code\n",
    "* Getting SageMaker's default hyperparameters\n",
    "* Loading the training data by name, `train.csv` and extracting the features and labels, `train_x`, and `train_y`\n",
    "\n",
    "If you'd like to read more about model saving with [joblib for sklearn](https://scikit-learn.org/stable/modules/model_persistence.html) or with [torch.save](https://pytorch.org/tutorials/beginner/saving_loading_models.html), click on the provided links."
   ]
  },
  {
   "cell_type": "markdown",
   "metadata": {},
   "source": [
    "---\n",
    "# Create an Estimator\n",
    "\n",
    "When a custom model is constructed in SageMaker, an entry point must be specified. This is the Python file which will be executed when the model is trained; the `train.py` function you specified above. To run a custom training script in SageMaker, construct an estimator, and fill in the appropriate constructor arguments:\n",
    "\n",
    "* **entry_point**: The path to the Python script SageMaker runs for training and prediction.\n",
    "* **source_dir**: The path to the training script directory `source_sklearn` OR `source_pytorch`.\n",
    "* **entry_point**: The path to the Python script SageMaker runs for training and prediction.\n",
    "* **source_dir**: The path to the training script directory `train_sklearn` OR `train_pytorch`.\n",
    "* **entry_point**: The path to the Python script SageMaker runs for training.\n",
    "* **source_dir**: The path to the training script directory `train_sklearn` OR `train_pytorch`.\n",
    "* **role**: Role ARN, which was specified, above.\n",
    "* **train_instance_count**: The number of training instances (should be left at 1).\n",
    "* **train_instance_type**: The type of SageMaker instance for training. Note: Because Scikit-learn does not natively support GPU training, Sagemaker Scikit-learn does not currently support training on GPU instance types.\n",
    "* **sagemaker_session**: The session used to train on Sagemaker.\n",
    "* **hyperparameters** (optional): A dictionary `{'name':value, ..}` passed to the train function as hyperparameters.\n",
    "\n",
    "Note: For a PyTorch model, there is another optional argument **framework_version**, which you can set to the latest version of PyTorch, `1.0`.\n",
    "\n",
    "## EXERCISE: Define a Scikit-learn or PyTorch estimator\n",
    "\n",
    "To import your desired estimator, use one of the following lines:\n",
    "```\n",
    "from sagemaker.sklearn.estimator import SKLearn\n",
    "```\n",
    "```\n",
    "from sagemaker.pytorch import PyTorch\n",
    "```"
   ]
  },
  {
   "cell_type": "code",
   "execution_count": 20,
   "metadata": {},
   "outputs": [],
   "source": [
    "nr_input_features = len(pd.read_csv(os.path.join(data_dir, 'train.csv'), header=None).columns.values) - 1"
   ]
  },
  {
   "cell_type": "code",
   "execution_count": 21,
   "metadata": {},
   "outputs": [
    {
     "data": {
      "text/plain": [
       "'s3://sagemaker-eu-west-1-282784146513/plagiarism_data_n3/pytorch_model/'"
      ]
     },
     "execution_count": 21,
     "metadata": {},
     "output_type": "execute_result"
    }
   ],
   "source": [
    "output_path = 's3://' + os.path.join(bucket, prefix, 'pytorch_model/')\n",
    "output_path"
   ]
  },
  {
   "cell_type": "code",
   "execution_count": 27,
   "metadata": {},
   "outputs": [
    {
     "data": {
      "text/plain": [
       "'s3://sagemaker-eu-west-1-282784146513/plagiarism_data_n3'"
      ]
     },
     "execution_count": 27,
     "metadata": {},
     "output_type": "execute_result"
    }
   ],
   "source": [
    "input_data_dir = 's3://' + os.path.join(bucket, prefix)\n",
    "input_data_dir"
   ]
  },
  {
   "cell_type": "code",
   "execution_count": 34,
   "metadata": {},
   "outputs": [],
   "source": [
    "# import a PyTorch wrapper\n",
    "from sagemaker.pytorch import PyTorch\n",
    "\n",
    "# instantiate a pytorch estimator\n",
    "estimator = PyTorch(entry_point='train.py', \n",
    "                    source_dir='source_pytorch/', \n",
    "                    train_instance_type='ml.p2.xlarge',\n",
    "                    train_instance_count=1,\n",
    "                    role=role,\n",
    "                    output_path=output_path,\n",
    "                    sagemaker_session=sagemaker_session,\n",
    "                    framework_version='1.3.1',\n",
    "                    hyperparameters={'input_features': nr_input_features,\n",
    "                                     'epochs': 12, \n",
    "                                     'hidden_dim': 8,\n",
    "                                     'lr': .01})\n"
   ]
  },
  {
   "cell_type": "markdown",
   "metadata": {},
   "source": [
    "## EXERCISE: Train the estimator\n",
    "\n",
    "Train your estimator on the training data stored in S3. This should create a training job that you can monitor in your SageMaker console."
   ]
  },
  {
   "cell_type": "code",
   "execution_count": 35,
   "metadata": {
    "scrolled": true
   },
   "outputs": [
    {
     "name": "stdout",
     "output_type": "stream",
     "text": [
      "2020-03-01 19:35:48 Starting - Starting the training job...\n",
      "2020-03-01 19:35:50 Starting - Launching requested ML instances...\n",
      "2020-03-01 19:36:47 Starting - Preparing the instances for training............\n",
      "2020-03-01 19:38:34 Downloading - Downloading input data......\n",
      "2020-03-01 19:39:22 Training - Downloading the training image........\u001b[34mbash: cannot set terminal process group (-1): Inappropriate ioctl for device\u001b[0m\n",
      "\u001b[34mbash: no job control in this shell\u001b[0m\n",
      "\u001b[34m2020-03-01 19:41:02,123 sagemaker-containers INFO     Imported framework sagemaker_pytorch_container.training\u001b[0m\n",
      "\u001b[34m2020-03-01 19:41:02,151 sagemaker_pytorch_container.training INFO     Block until all host DNS lookups succeed.\u001b[0m\n",
      "\u001b[34m2020-03-01 19:41:05,178 sagemaker_pytorch_container.training INFO     Invoking user training script.\u001b[0m\n",
      "\u001b[34m2020-03-01 19:41:05,442 sagemaker-containers INFO     Module default_user_module_name does not provide a setup.py. \u001b[0m\n",
      "\u001b[34mGenerating setup.py\u001b[0m\n",
      "\u001b[34m2020-03-01 19:41:05,442 sagemaker-containers INFO     Generating setup.cfg\u001b[0m\n",
      "\u001b[34m2020-03-01 19:41:05,442 sagemaker-containers INFO     Generating MANIFEST.in\u001b[0m\n",
      "\u001b[34m2020-03-01 19:41:05,442 sagemaker-containers INFO     Installing module with the following command:\u001b[0m\n",
      "\u001b[34m/opt/conda/bin/python -m pip install . \u001b[0m\n",
      "\u001b[34mProcessing /tmp/tmpe1x66slc/module_dir\u001b[0m\n",
      "\u001b[34mBuilding wheels for collected packages: default-user-module-name\n",
      "  Building wheel for default-user-module-name (setup.py): started\n",
      "  Building wheel for default-user-module-name (setup.py): finished with status 'done'\n",
      "  Created wheel for default-user-module-name: filename=default_user_module_name-1.0.0-py2.py3-none-any.whl size=17678 sha256=5375c928ea2860a7d5ce2fdd66de95917fbfc196cd9ab13361022c54b43160ec\n",
      "  Stored in directory: /tmp/pip-ephem-wheel-cache-ahjzyfw6/wheels/42/4a/22/c90b9653e0b110c3505167193bb349109ec545d78c8a3c5711\u001b[0m\n",
      "\u001b[34mSuccessfully built default-user-module-name\u001b[0m\n",
      "\u001b[34mInstalling collected packages: default-user-module-name\u001b[0m\n",
      "\u001b[34mSuccessfully installed default-user-module-name-1.0.0\u001b[0m\n",
      "\u001b[34mWARNING: You are using pip version 20.0.1; however, version 20.0.2 is available.\u001b[0m\n",
      "\u001b[34mYou should consider upgrading via the '/opt/conda/bin/python -m pip install --upgrade pip' command.\u001b[0m\n",
      "\u001b[34m2020-03-01 19:41:07,884 sagemaker-containers INFO     Invoking user script\n",
      "\u001b[0m\n",
      "\u001b[34mTraining Env:\n",
      "\u001b[0m\n",
      "\u001b[34m{\n",
      "    \"additional_framework_parameters\": {},\n",
      "    \"channel_input_dirs\": {\n",
      "        \"train\": \"/opt/ml/input/data/train\"\n",
      "    },\n",
      "    \"current_host\": \"algo-1\",\n",
      "    \"framework_module\": \"sagemaker_pytorch_container.training:main\",\n",
      "    \"hosts\": [\n",
      "        \"algo-1\"\n",
      "    ],\n",
      "    \"hyperparameters\": {\n",
      "        \"hidden_dim\": 8,\n",
      "        \"lr\": 0.01,\n",
      "        \"input_features\": 3,\n",
      "        \"epochs\": 12\n",
      "    },\n",
      "    \"input_config_dir\": \"/opt/ml/input/config\",\n",
      "    \"input_data_config\": {\n",
      "        \"train\": {\n",
      "            \"TrainingInputMode\": \"File\",\n",
      "            \"S3DistributionType\": \"FullyReplicated\",\n",
      "            \"RecordWrapperType\": \"None\"\n",
      "        }\n",
      "    },\n",
      "    \"input_dir\": \"/opt/ml/input\",\n",
      "    \"is_master\": true,\n",
      "    \"job_name\": \"pytorch-training-2020-03-01-19-35-48-265\",\n",
      "    \"log_level\": 20,\n",
      "    \"master_hostname\": \"algo-1\",\n",
      "    \"model_dir\": \"/opt/ml/model\",\n",
      "    \"module_dir\": \"s3://sagemaker-eu-west-1-282784146513/pytorch-training-2020-03-01-19-35-48-265/source/sourcedir.tar.gz\",\n",
      "    \"module_name\": \"train\",\n",
      "    \"network_interface_name\": \"eth0\",\n",
      "    \"num_cpus\": 4,\n",
      "    \"num_gpus\": 1,\n",
      "    \"output_data_dir\": \"/opt/ml/output/data\",\n",
      "    \"output_dir\": \"/opt/ml/output\",\n",
      "    \"output_intermediate_dir\": \"/opt/ml/output/intermediate\",\n",
      "    \"resource_config\": {\n",
      "        \"current_host\": \"algo-1\",\n",
      "        \"hosts\": [\n",
      "            \"algo-1\"\n",
      "        ],\n",
      "        \"network_interface_name\": \"eth0\"\n",
      "    },\n",
      "    \"user_entry_point\": \"train.py\"\u001b[0m\n",
      "\u001b[34m}\n",
      "\u001b[0m\n",
      "\u001b[34mEnvironment variables:\n",
      "\u001b[0m\n",
      "\u001b[34mSM_HOSTS=[\"algo-1\"]\u001b[0m\n",
      "\u001b[34mSM_NETWORK_INTERFACE_NAME=eth0\u001b[0m\n",
      "\u001b[34mSM_HPS={\"epochs\":12,\"hidden_dim\":8,\"input_features\":3,\"lr\":0.01}\u001b[0m\n",
      "\u001b[34mSM_USER_ENTRY_POINT=train.py\u001b[0m\n",
      "\u001b[34mSM_FRAMEWORK_PARAMS={}\u001b[0m\n",
      "\u001b[34mSM_RESOURCE_CONFIG={\"current_host\":\"algo-1\",\"hosts\":[\"algo-1\"],\"network_interface_name\":\"eth0\"}\u001b[0m\n",
      "\u001b[34mSM_INPUT_DATA_CONFIG={\"train\":{\"RecordWrapperType\":\"None\",\"S3DistributionType\":\"FullyReplicated\",\"TrainingInputMode\":\"File\"}}\u001b[0m\n",
      "\u001b[34mSM_OUTPUT_DATA_DIR=/opt/ml/output/data\u001b[0m\n",
      "\u001b[34mSM_CHANNELS=[\"train\"]\u001b[0m\n",
      "\u001b[34mSM_CURRENT_HOST=algo-1\u001b[0m\n",
      "\u001b[34mSM_MODULE_NAME=train\u001b[0m\n",
      "\u001b[34mSM_LOG_LEVEL=20\u001b[0m\n",
      "\u001b[34mSM_FRAMEWORK_MODULE=sagemaker_pytorch_container.training:main\u001b[0m\n",
      "\u001b[34mSM_INPUT_DIR=/opt/ml/input\u001b[0m\n",
      "\u001b[34mSM_INPUT_CONFIG_DIR=/opt/ml/input/config\u001b[0m\n",
      "\u001b[34mSM_OUTPUT_DIR=/opt/ml/output\u001b[0m\n",
      "\u001b[34mSM_NUM_CPUS=4\u001b[0m\n",
      "\u001b[34mSM_NUM_GPUS=1\u001b[0m\n",
      "\u001b[34mSM_MODEL_DIR=/opt/ml/model\u001b[0m\n",
      "\u001b[34mSM_MODULE_DIR=s3://sagemaker-eu-west-1-282784146513/pytorch-training-2020-03-01-19-35-48-265/source/sourcedir.tar.gz\u001b[0m\n",
      "\u001b[34mSM_TRAINING_ENV={\"additional_framework_parameters\":{},\"channel_input_dirs\":{\"train\":\"/opt/ml/input/data/train\"},\"current_host\":\"algo-1\",\"framework_module\":\"sagemaker_pytorch_container.training:main\",\"hosts\":[\"algo-1\"],\"hyperparameters\":{\"epochs\":12,\"hidden_dim\":8,\"input_features\":3,\"lr\":0.01},\"input_config_dir\":\"/opt/ml/input/config\",\"input_data_config\":{\"train\":{\"RecordWrapperType\":\"None\",\"S3DistributionType\":\"FullyReplicated\",\"TrainingInputMode\":\"File\"}},\"input_dir\":\"/opt/ml/input\",\"is_master\":true,\"job_name\":\"pytorch-training-2020-03-01-19-35-48-265\",\"log_level\":20,\"master_hostname\":\"algo-1\",\"model_dir\":\"/opt/ml/model\",\"module_dir\":\"s3://sagemaker-eu-west-1-282784146513/pytorch-training-2020-03-01-19-35-48-265/source/sourcedir.tar.gz\",\"module_name\":\"train\",\"network_interface_name\":\"eth0\",\"num_cpus\":4,\"num_gpus\":1,\"output_data_dir\":\"/opt/ml/output/data\",\"output_dir\":\"/opt/ml/output\",\"output_intermediate_dir\":\"/opt/ml/output/intermediate\",\"resource_config\":{\"current_host\":\"algo-1\",\"hosts\":[\"algo-1\"],\"network_interface_name\":\"eth0\"},\"user_entry_point\":\"train.py\"}\u001b[0m\n",
      "\u001b[34mSM_USER_ARGS=[\"--epochs\",\"12\",\"--hidden_dim\",\"8\",\"--input_features\",\"3\",\"--lr\",\"0.01\"]\u001b[0m\n",
      "\u001b[34mSM_OUTPUT_INTERMEDIATE_DIR=/opt/ml/output/intermediate\u001b[0m\n",
      "\u001b[34mSM_CHANNEL_TRAIN=/opt/ml/input/data/train\u001b[0m\n",
      "\u001b[34mSM_HP_HIDDEN_DIM=8\u001b[0m\n",
      "\u001b[34mSM_HP_LR=0.01\u001b[0m\n",
      "\u001b[34mSM_HP_INPUT_FEATURES=3\u001b[0m\n",
      "\u001b[34mSM_HP_EPOCHS=12\u001b[0m\n",
      "\u001b[34mPYTHONPATH=/opt/ml/code:/opt/conda/bin:/opt/conda/lib/python36.zip:/opt/conda/lib/python3.6:/opt/conda/lib/python3.6/lib-dynload:/opt/conda/lib/python3.6/site-packages\n",
      "\u001b[0m\n",
      "\u001b[34mInvoking script with the following command:\n",
      "\u001b[0m\n",
      "\u001b[34m/opt/conda/bin/python train.py --epochs 12 --hidden_dim 8 --input_features 3 --lr 0.01\n",
      "\n",
      "\u001b[0m\n",
      "\n",
      "2020-03-01 19:41:16 Uploading - Uploading generated training model\u001b[34mUsing device cuda.\u001b[0m\n",
      "\u001b[34m/opt/conda/lib/python3.6/site-packages/torch/nn/modules/loss.py:498: UserWarning: Using a target size (torch.Size([10])) that is different to the input size (torch.Size([10, 1])) is deprecated. Please ensure they have the same size.\u001b[0m\n",
      "\u001b[34mGet train data loader.\n",
      "  return F.binary_cross_entropy(input, target, weight=self.weight, reduction=self.reduction)\u001b[0m\n",
      "\u001b[34m[2020-03-01 19:41:12.806 algo-1:43 INFO json_config.py:90] Creating hook from json_config at /opt/ml/input/config/debughookconfig.json.\u001b[0m\n",
      "\u001b[34m[2020-03-01 19:41:12.806 algo-1:43 INFO hook.py:152] tensorboard_dir has not been set for the hook. SMDebug will not be exporting tensorboard summaries.\u001b[0m\n",
      "\u001b[34m[2020-03-01 19:41:12.806 algo-1:43 INFO hook.py:197] Saving to /opt/ml/output/tensors\u001b[0m\n",
      "\u001b[34m[2020-03-01 19:41:12.819 algo-1:43 INFO hook.py:326] Monitoring the collections: losses\u001b[0m\n",
      "\u001b[34mEpoch: 1, Loss: 0.6753191777638027\u001b[0m\n",
      "\u001b[34mEpoch: 2, Loss: 0.6637246779033116\u001b[0m\n",
      "\u001b[34mEpoch: 3, Loss: 0.6434233699526105\u001b[0m\n",
      "\u001b[34mEpoch: 4, Loss: 0.6303234611238752\u001b[0m\n",
      "\u001b[34mEpoch: 5, Loss: 0.6256317496299744\u001b[0m\n",
      "\u001b[34mEpoch: 6, Loss: 0.6179040329796928\u001b[0m\n",
      "\u001b[34mEpoch: 7, Loss: 0.5773866559777941\u001b[0m\n",
      "\u001b[34mEpoch: 8, Loss: 0.5697331087929862\u001b[0m\n",
      "\u001b[34mEpoch: 9, Loss: 0.5505668137754712\u001b[0m\n",
      "\u001b[34mEpoch: 10, Loss: 0.5499213635921478\u001b[0m\n",
      "\u001b[34mEpoch: 11, Loss: 0.49959040113857817\u001b[0m\n",
      "\u001b[34mEpoch: 12, Loss: 0.5469621547630855\u001b[0m\n",
      "\u001b[34m[2020-03-01 19:41:13.975 algo-1:43 INFO utils.py:25] The end of training job file will not be written for jobs running under SageMaker.\u001b[0m\n",
      "\u001b[34m2020-03-01 19:41:14,334 sagemaker-containers INFO     Reporting training SUCCESS\u001b[0m\n",
      "\n",
      "2020-03-01 19:41:23 Completed - Training job completed\n",
      "Training seconds: 169\n",
      "Billable seconds: 169\n",
      "CPU times: user 681 ms, sys: 39.9 ms, total: 721 ms\n",
      "Wall time: 6min 13s\n"
     ]
    }
   ],
   "source": [
    "%%time\n",
    "\n",
    "# Train your estimator on S3 training data\n",
    "\n",
    "estimator.fit({'train': input_data_dir}) "
   ]
  },
  {
   "cell_type": "markdown",
   "metadata": {},
   "source": [
    "## EXERCISE: Deploy the trained model\n",
    "\n",
    "After training, deploy your model to create a `predictor`. If you're using a PyTorch model, you'll need to create a trained `PyTorchModel` that accepts the trained `<model>.model_data` as an input parameter and points to the provided `source_pytorch/predict.py` file as an entry point. \n",
    "\n",
    "To deploy a trained model, you'll use `<model>.deploy`, which takes in two arguments:\n",
    "* **initial_instance_count**: The number of deployed instances (1).\n",
    "* **instance_type**: The type of SageMaker instance for deployment.\n",
    "\n",
    "Note: If you run into an instance error, it may be because you chose the wrong training or deployment instance_type. It may help to refer to your previous exercise code to see which types of instances we used."
   ]
  },
  {
   "cell_type": "code",
   "execution_count": 36,
   "metadata": {},
   "outputs": [
    {
     "name": "stdout",
     "output_type": "stream",
     "text": [
      "-----------!CPU times: user 247 ms, sys: 8.27 ms, total: 255 ms\n",
      "Wall time: 5min 31s\n"
     ]
    }
   ],
   "source": [
    "%%time\n",
    "\n",
    "# uncomment, if needed\n",
    "from sagemaker.pytorch import PyTorchModel\n",
    "\n",
    "# Create a model from the trained estimator data\n",
    "# And point to the prediction script\n",
    "model = PyTorchModel(estimator.model_data, \n",
    "                     role, \n",
    "                     'predict.py', \n",
    "                     source_dir='source_pytorch/',\n",
    "                     framework_version='1.3.1', \n",
    "                     sagemaker_session=sagemaker_session)\n",
    "\n",
    "\n",
    "\n",
    "\n",
    "# deploy your model to create a predictor\n",
    "predictor = model.deploy(instance_type=\"ml.c4.xlarge\", initial_instance_count=1)\n"
   ]
  },
  {
   "cell_type": "markdown",
   "metadata": {},
   "source": [
    "---\n",
    "# Evaluating Your Model\n",
    "\n",
    "Once your model is deployed, you can see how it performs when applied to our test data.\n",
    "\n",
    "The provided cell below, reads in the test data, assuming it is stored locally in `data_dir` and named `test.csv`. The labels and features are extracted from the `.csv` file."
   ]
  },
  {
   "cell_type": "code",
   "execution_count": 37,
   "metadata": {},
   "outputs": [],
   "source": [
    "\"\"\"\n",
    "DON'T MODIFY ANYTHING IN THIS CELL THAT IS BELOW THIS LINE\n",
    "\"\"\"\n",
    "import os\n",
    "\n",
    "# read in test data, assuming it is stored locally\n",
    "test_data = pd.read_csv(os.path.join(data_dir, \"test.csv\"), header=None, names=None)\n",
    "\n",
    "# labels are in the first column\n",
    "test_y = test_data.iloc[:,0]\n",
    "test_x = test_data.iloc[:,1:]"
   ]
  },
  {
   "cell_type": "markdown",
   "metadata": {},
   "source": [
    "## EXERCISE: Determine the accuracy of your model\n",
    "\n",
    "Use your deployed `predictor` to generate predicted, class labels for the test data. Compare those to the *true* labels, `test_y`, and calculate the accuracy as a value between 0 and 1.0 that indicates the fraction of test data that your model classified correctly. You may use [sklearn.metrics](https://scikit-learn.org/stable/modules/classes.html#module-sklearn.metrics) for this calculation.\n",
    "\n",
    "**To pass this project, your model should get at least 90% test accuracy.**"
   ]
  },
  {
   "cell_type": "code",
   "execution_count": 43,
   "metadata": {},
   "outputs": [
    {
     "name": "stdout",
     "output_type": "stream",
     "text": [
      "Test passed!\n"
     ]
    }
   ],
   "source": [
    "# First: generate predicted, class labels\n",
    "import numpy as np\n",
    "\n",
    "test_y_preds = np.squeeze(np.round(predictor.predict(test_x)))\n",
    "\n",
    "\n",
    "\"\"\"\n",
    "DON'T MODIFY ANYTHING IN THIS CELL THAT IS BELOW THIS LINE\n",
    "\"\"\"\n",
    "# test that your model generates the correct number of labels\n",
    "assert len(test_y_preds)==len(test_y), 'Unexpected number of predictions.'\n",
    "print('Test passed!')"
   ]
  },
  {
   "cell_type": "code",
   "execution_count": 54,
   "metadata": {},
   "outputs": [
    {
     "name": "stdout",
     "output_type": "stream",
     "text": [
      "accuracy: 0.9600\n"
     ]
    },
    {
     "data": {
      "image/png": "[encoded data removed]",
      "text/plain": [
       "<Figure size 432x288 with 2 Axes>"
      ]
     },
     "metadata": {},
     "output_type": "display_data"
    }
   ],
   "source": [
    "from sklearn.metrics import accuracy_score, confusion_matrix\n",
    "import matplotlib.pyplot as plt\n",
    "import seaborn as sns\n",
    "    \n",
    "accuracy = accuracy_score(test_y, test_y_preds)\n",
    "\n",
    "print('accuracy: {:2.4f}'.format(accuracy))\n",
    "\n",
    "# plot confusion matrix\n",
    "labels= [0,1]\n",
    "cm = confusion_matrix(test_y, test_y_preds, labels=labels)\n",
    "df_cm = pd.DataFrame(cm, columns=labels, index=labels)\n",
    "plt.figure(figsize=(6,4))\n",
    "sns.set(font_scale=1.4)\n",
    "sns.heatmap(df_cm, annot=True, cmap=sns.cm.rocket_r)\n",
    "plt.ylabel('True label')\n",
    "plt.xlabel('Predicted label')\n",
    "plt.tight_layout()\n",
    "plt.show()    \n",
    "    "
   ]
  },
  {
   "cell_type": "code",
   "execution_count": 53,
   "metadata": {},
   "outputs": [
    {
     "name": "stdout",
     "output_type": "stream",
     "text": [
      "0.96\n",
      "\n",
      "Predicted class labels: \n",
      "[1. 1. 1. 1. 1. 1. 0. 0. 0. 0. 0. 0. 1. 1. 1. 1. 1. 1. 0. 1. 1. 1. 1. 0.\n",
      " 0.]\n",
      "\n",
      "True class labels: \n",
      "[1. 1. 1. 1. 1. 1. 0. 0. 0. 0. 0. 0. 1. 1. 1. 1. 1. 1. 0. 1. 0. 1. 1. 0.\n",
      " 0.]\n"
     ]
    }
   ],
   "source": [
    "# Second: calculate the test accuracy\n",
    "print(accuracy)\n",
    "\n",
    "## print out the array of predicted and true labels, if you want\n",
    "print('\\nPredicted class labels: ')\n",
    "print(test_y_preds)\n",
    "print('\\nTrue class labels: ')\n",
    "print(test_y.values)"
   ]
  },
  {
   "cell_type": "code",
   "execution_count": 62,
   "metadata": {},
   "outputs": [
    {
     "data": {
      "text/plain": [
       "0    0.000000\n",
       "1    0.613924\n",
       "2    0.000000\n",
       "3    0.298343\n",
       "Name: 20, dtype: float64"
      ]
     },
     "execution_count": 62,
     "metadata": {},
     "output_type": "execute_result"
    }
   ],
   "source": [
    "test_data.iloc[-5, :]"
   ]
  },
  {
   "cell_type": "code",
   "execution_count": 86,
   "metadata": {},
   "outputs": [
    {
     "name": "stdout",
     "output_type": "stream",
     "text": [
      "means for train data positive class:\n",
      " 0    1.000000\n",
      "1    0.755861\n",
      "2    0.288162\n",
      "3    0.586178\n",
      "dtype: float64\n",
      "means for train data negative class:\n",
      " 0    0.000000\n",
      "1    0.483704\n",
      "2    0.000189\n",
      "3    0.237759\n",
      "dtype: float64\n"
     ]
    }
   ],
   "source": [
    "train_data = pd.read_csv(os.path.join(data_dir, 'train.csv'), header=None)\n",
    "\n",
    "print('means for train data positive class:\\n', train_data[train_data[0] == 1].mean())\n",
    "print('means for train data negative class:\\n', train_data[train_data[0] == 0].mean())"
   ]
  },
  {
   "cell_type": "code",
   "execution_count": 73,
   "metadata": {},
   "outputs": [
    {
     "data": {
      "text/plain": [
       "0.6197825"
      ]
     },
     "execution_count": 73,
     "metadata": {},
     "output_type": "execute_result"
    }
   ],
   "source": [
    "0.755861 - (0.755861 - 0.483704)/2"
   ]
  },
  {
   "cell_type": "code",
   "execution_count": 82,
   "metadata": {},
   "outputs": [
    {
     "name": "stdout",
     "output_type": "stream",
     "text": [
      "\n"
     ]
    },
    {
     "data": {
      "image/png": "[encoded data removed]",
      "text/plain": [
       "<Figure size 432x288 with 1 Axes>"
      ]
     },
     "metadata": {},
     "output_type": "display_data"
    }
   ],
   "source": [
    "sns.boxplot(data=train_data, x=0, y=1, showmeans=True )\n",
    "plt.title('feature 1 (c_1) distribution per class')\n",
    "print()"
   ]
  },
  {
   "cell_type": "code",
   "execution_count": 83,
   "metadata": {},
   "outputs": [
    {
     "name": "stdout",
     "output_type": "stream",
     "text": [
      "\n"
     ]
    },
    {
     "data": {
      "image/png": "[encoded data removed]",
      "text/plain": [
       "<Figure size 432x288 with 1 Axes>"
      ]
     },
     "metadata": {},
     "output_type": "display_data"
    }
   ],
   "source": [
    "sns.boxplot(data=train_data, x=0, y=2, showmeans=True)\n",
    "plt.title('feature  2 (c_6) distribution per class')\n",
    "print()"
   ]
  },
  {
   "cell_type": "code",
   "execution_count": 84,
   "metadata": {},
   "outputs": [
    {
     "name": "stdout",
     "output_type": "stream",
     "text": [
      "\n"
     ]
    },
    {
     "data": {
      "image/png": "[encoded data removed]",
      "text/plain": [
       "<Figure size 432x288 with 1 Axes>"
      ]
     },
     "metadata": {},
     "output_type": "display_data"
    }
   ],
   "source": [
    "sns.boxplot(data=train_data, x=0, y=3, showmeans=True)\n",
    "plt.title('feature 3 (LCS) distribution per class')\n",
    "print()"
   ]
  },
  {
   "cell_type": "markdown",
   "metadata": {},
   "source": [
    "### Question 1: How many false positives and false negatives did your model produce, if any? And why do you think this is?"
   ]
  },
  {
   "cell_type": "markdown",
   "metadata": {},
   "source": [
    "Number false negatives: 0  \n",
    "Number false positives: 1\n",
    "\n",
    "The false positive is the 5th sample from the back. Its features are printed a few cells above. \n",
    "When looking at its features, and the means for these features for the rest of the train data (also printed above), \n",
    "you can see that the first feature, which is the containment using the number of 1-grams in common, \n",
    "is relatively high. \n",
    "That is, it is above the midpoint that is equidistant between the mean of the negative class and the positive class.\n",
    "\n",
    "The other containment features, containment using 6-grams and LCS, could in theory help here but as we can see from the box plots above, they have a huge variance, so deviations there would not be uncommon."
   ]
  },
  {
   "cell_type": "markdown",
   "metadata": {},
   "source": [
    "### Question 2: How did you decide on the type of model to use? "
   ]
  },
  {
   "cell_type": "markdown",
   "metadata": {},
   "source": [
    "I did not want to use a fully linear model because even though I selected the most low-correlated features, all the features were\n",
    "still pretty highly correlated with each other, and high correlation has been known to cause overfitting in linear regression analysis models \n",
    "([source](https://en.wikipedia.org/wiki/Multicollinearity#Consequences_of_multicollinearity)).\n",
    "\n",
    "Also I suspected that some of the containment features might interact with the LCS features nonlinearly. So I wanted 1 hidden layer with nonlinear activation.\n",
    "\n",
    "Also I wanted to add some regularization (dropout in this case).  \n",
    "\n",
    "Other than that I just went for a very basic architecture familiar from a previous exercise.  \n",
    "In fact I think my hidden layer here could have been smaller. "
   ]
  },
  {
   "cell_type": "markdown",
   "metadata": {},
   "source": [
    "----\n",
    "## EXERCISE: Clean up Resources\n",
    "\n",
    "After you're done evaluating your model, **delete your model endpoint**. You can do this with a call to `.delete_endpoint()`. You need to show, in this notebook, that the endpoint was deleted. Any other resources, you may delete from the AWS console, and you will find more instructions on cleaning up all your resources, below."
   ]
  },
  {
   "cell_type": "code",
   "execution_count": null,
   "metadata": {},
   "outputs": [],
   "source": [
    "# uncomment and fill in the line below!\n",
    "predictor.delete_endpoint()"
   ]
  },
  {
   "cell_type": "markdown",
   "metadata": {},
   "source": [
    "### Deleting S3 bucket\n",
    "\n",
    "When you are *completely* done with training and testing models, you can also delete your entire S3 bucket. If you do this before you are done training your model, you'll have to recreate your S3 bucket and upload your training data again."
   ]
  },
  {
   "cell_type": "code",
   "execution_count": 93,
   "metadata": {},
   "outputs": [],
   "source": [
    "# deleting bucket, uncomment lines below\n",
    "#bucket_to_delete = boto3.resource('s3').Bucket(bucket)\n",
    "#bucket_to_delete.objects.all().delete()"
   ]
  },
  {
   "cell_type": "markdown",
   "metadata": {},
   "source": [
    "### Deleting all your models and instances\n",
    "\n",
    "When you are _completely_ done with this project and do **not** ever want to revisit this notebook, you can choose to delete all of your SageMaker notebook instances and models by following [these instructions](https://docs.aws.amazon.com/sagemaker/latest/dg/ex1-cleanup.html). Before you delete this notebook instance, I recommend at least downloading a copy and saving it, locally."
   ]
  },
  {
   "cell_type": "markdown",
   "metadata": {},
   "source": [
    "---\n",
    "## Further Directions\n",
    "\n",
    "There are many ways to improve or add on to this project to expand your learning or make this more of a unique project for you. A few ideas are listed below:\n",
    "* Train a classifier to predict the *category* (1-3) of plagiarism and not just plagiarized (1) or not (0).\n",
    "* Utilize a different and larger dataset to see if this model can be extended to other types of plagiarism.\n",
    "* Use language or character-level analysis to find different (and more) similarity features.\n",
    "* Write a complete pipeline function that accepts a source text and submitted text file, and classifies the submitted text as plagiarized or not.\n",
    "* Use API Gateway and a lambda function to deploy your model to a web application.\n",
    "\n",
    "These are all just options for extending your work. If you've completed all the exercises in this notebook, you've completed a real-world application, and can proceed to submit your project. Great job!"
   ]
  }
 ],
 "metadata": {
  "kernelspec": {
   "display_name": "conda_pytorch_p36",
   "language": "python",
   "name": "conda_pytorch_p36"
  },
  "language_info": {
   "codemirror_mode": {
    "name": "ipython",
    "version": 3
   },
   "file_extension": ".py",
   "mimetype": "text/x-python",
   "name": "python",
   "nbconvert_exporter": "python",
   "pygments_lexer": "ipython3",
   "version": "3.6.5"
  }
 },
 "nbformat": 4,
 "nbformat_minor": 4
}
